{
 "cells": [
  {
   "cell_type": "code",
   "execution_count": 5,
   "metadata": {},
   "outputs": [],
   "source": [
    "def student(name, age):\n",
    "    print('name:', name)\n",
    "    print('age:', age)"
   ]
  },
  {
   "cell_type": "code",
   "execution_count": 7,
   "metadata": {},
   "outputs": [
    {
     "name": "stdout",
     "output_type": "stream",
     "text": [
      "name: max\n",
      "age: 22\n"
     ]
    }
   ],
   "source": [
    "student('max', 22)"
   ]
  },
  {
   "cell_type": "code",
   "execution_count": 8,
   "metadata": {},
   "outputs": [],
   "source": [
    "def student(name = 'unknown name', age = 0):\n",
    "    print('name:', name)\n",
    "    print('age:', age)"
   ]
  },
  {
   "cell_type": "code",
   "execution_count": 9,
   "metadata": {},
   "outputs": [
    {
     "name": "stdout",
     "output_type": "stream",
     "text": [
      "name: unknown name\n",
      "age: 0\n"
     ]
    }
   ],
   "source": [
    "student()"
   ]
  },
  {
   "cell_type": "code",
   "execution_count": 10,
   "metadata": {},
   "outputs": [],
   "source": [
    "def student(name = 'unknown name', age = 0):\n",
    "    print('name:', name)\n",
    "    print('age:', age)"
   ]
  },
  {
   "cell_type": "code",
   "execution_count": 11,
   "metadata": {},
   "outputs": [
    {
     "name": "stdout",
     "output_type": "stream",
     "text": [
      "name: tom\n",
      "age: 0\n"
     ]
    }
   ],
   "source": [
    "student('tom')"
   ]
  },
  {
   "cell_type": "code",
   "execution_count": null,
   "metadata": {},
   "outputs": [],
   "source": [
    "#3 arguments"
   ]
  },
  {
   "cell_type": "code",
   "execution_count": 12,
   "metadata": {},
   "outputs": [],
   "source": [
    "def student(name, age, marks):\n",
    "    print('name:', name)\n",
    "    print('age:', age)\n",
    "    print('marks:', marks)"
   ]
  },
  {
   "cell_type": "code",
   "execution_count": 13,
   "metadata": {},
   "outputs": [
    {
     "name": "stdout",
     "output_type": "stream",
     "text": [
      "name: tom\n",
      "age: 22\n",
      "marks: 45\n"
     ]
    }
   ],
   "source": [
    "student('tom', 22, 45)"
   ]
  },
  {
   "cell_type": "code",
   "execution_count": 14,
   "metadata": {},
   "outputs": [],
   "source": [
    "def student(name, age, *marks):\n",
    "    print('name:', name)\n",
    "    print('age:', age)\n",
    "    print('marks', marks)"
   ]
  },
  {
   "cell_type": "code",
   "execution_count": 15,
   "metadata": {},
   "outputs": [
    {
     "name": "stdout",
     "output_type": "stream",
     "text": [
      "name: tom\n",
      "age: 22\n",
      "marks (75, 65, 100, 98)\n"
     ]
    }
   ],
   "source": [
    "student('tom', 22, 75, 65, 100, 98)"
   ]
  },
  {
   "cell_type": "code",
   "execution_count": 16,
   "metadata": {},
   "outputs": [],
   "source": [
    "def student(name, age, **marks):\n",
    "    print('name:', name)\n",
    "    print('age:', age)\n",
    "    print('marks', marks)"
   ]
  },
  {
   "cell_type": "code",
   "execution_count": 17,
   "metadata": {},
   "outputs": [
    {
     "name": "stdout",
     "output_type": "stream",
     "text": [
      "name: tom\n",
      "age: 22\n",
      "marks {'english': 75, 'math': 65, 'physics': 100, 'chemistry': 98}\n"
     ]
    }
   ],
   "source": [
    "student('tom', 22, english=75, math=65, physics=100, chemistry=98)"
   ]
  },
  {
   "cell_type": "code",
   "execution_count": 18,
   "metadata": {},
   "outputs": [],
   "source": [
    "def student(name, age, **marks):\n",
    "    print('name:', name)\n",
    "    print('age:', age)\n",
    "    print('marks', marks)\n",
    "    for key, value in marks.items():\n",
    "        print(key, '=', value)"
   ]
  },
  {
   "cell_type": "code",
   "execution_count": 19,
   "metadata": {},
   "outputs": [
    {
     "name": "stdout",
     "output_type": "stream",
     "text": [
      "name: tom\n",
      "age: 22\n",
      "marks {'english': 75, 'math': 65, 'physics': 100, 'chemistry': 98}\n",
      "english = 75\n",
      "math = 65\n",
      "physics = 100\n",
      "chemistry = 98\n"
     ]
    }
   ],
   "source": [
    "student('tom', 22, english=75, math=65, physics=100, chemistry=98)"
   ]
  },
  {
   "cell_type": "code",
   "execution_count": null,
   "metadata": {},
   "outputs": [],
   "source": []
  }
 ],
 "metadata": {
  "kernelspec": {
   "display_name": "Python 3",
   "language": "python",
   "name": "python3"
  },
  "language_info": {
   "codemirror_mode": {
    "name": "ipython",
    "version": 3
   },
   "file_extension": ".py",
   "mimetype": "text/x-python",
   "name": "python",
   "nbconvert_exporter": "python",
   "pygments_lexer": "ipython3",
   "version": "3.7.6"
  }
 },
 "nbformat": 4,
 "nbformat_minor": 4
}
